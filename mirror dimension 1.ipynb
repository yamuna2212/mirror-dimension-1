{
 "cells": [
  {
   "cell_type": "markdown",
   "id": "3f69283d",
   "metadata": {},
   "source": [
    "## 2.send the words to mirror Dimension"
   ]
  },
  {
   "cell_type": "code",
   "execution_count": 10,
   "id": "786684a8",
   "metadata": {},
   "outputs": [
    {
     "name": "stdout",
     "output_type": "stream",
     "text": [
      "enter a word :Edyoda\n"
     ]
    },
    {
     "data": {
      "text/plain": [
       "'adoydE'"
      ]
     },
     "execution_count": 10,
     "metadata": {},
     "output_type": "execute_result"
    }
   ],
   "source": [
    "#### method 1:\n",
    "  \n",
    "a=input(\"enter a word :\")\n",
    "a[::-1]"
   ]
  }
 ],
 "metadata": {
  "kernelspec": {
   "display_name": "Python 3 (ipykernel)",
   "language": "python",
   "name": "python3"
  },
  "language_info": {
   "codemirror_mode": {
    "name": "ipython",
    "version": 3
   },
   "file_extension": ".py",
   "mimetype": "text/x-python",
   "name": "python",
   "nbconvert_exporter": "python",
   "pygments_lexer": "ipython3",
   "version": "3.10.1"
  }
 },
 "nbformat": 4,
 "nbformat_minor": 5
}
